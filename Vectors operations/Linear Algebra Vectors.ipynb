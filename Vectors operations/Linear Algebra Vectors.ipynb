{
 "cells": [
  {
   "cell_type": "code",
   "execution_count": 36,
   "metadata": {},
   "outputs": [],
   "source": [
    "from VectorFile import Vector"
   ]
  },
  {
   "cell_type": "code",
   "execution_count": 18,
   "metadata": {},
   "outputs": [],
   "source": [
    "from decimal import Decimal,getcontext\n",
    "getcontext().prec=30"
   ]
  },
  {
   "cell_type": "code",
   "execution_count": 23,
   "metadata": {},
   "outputs": [],
   "source": [
    "class line(object):\n",
    "        NO_NONZERO_ELTS_FOUND_MSG='No nonzero elements found'\n",
    "        def __init__(self,normal_vector=None,constant_term=None):\n",
    "                self.dimension=2\n",
    "                if not normal_vector:\n",
    "                    all_zeros=['0']*self.dimension\n",
    "                    normal_vector=Vector(all_zeros)\n",
    "                    self.normal_vector=normal_vector\n",
    "                if not constant_term:\n",
    "                    constant_term= Decimal('0')\n",
    "                    self.constant_term= Decimal(constant_term)\n",
    "               # self.set_basepoint()\n",
    "                \n",
    "        def first_nonzero_index(iterable):\n",
    "            for k,item in enumerate(iterable):\n",
    "                if not MyDeciaml(item).is_near_zero():\n",
    "                    return k\n",
    "            raise Exception (line.NO_NONZERO_ELTS_FOUND_MSG)    \n",
    "    \n",
    "            \n",
    "        def __str__(self):\n",
    "                num_decimal_places= 3\n",
    "                def write_coefficient(coefficient,is_intial_term=False):\n",
    "                    coefficient=round(coefficient,num_decimal_places)\n",
    "                    if coefficient %1 == 0:\n",
    "                        coefficient=int(coefficient)\n",
    "                    output = ''\n",
    "                    if coefficient<0:\n",
    "                        output += '-'\n",
    "                    if coefficient>0 and not is_intial_term:\n",
    "                        output +='+'\n",
    "                    if not is_intial_term:\n",
    "                        output +=' '\n",
    "                        constant = int(constant)\n",
    "                    output += ' = {}'.formate(constant)\n",
    "                    return output\n",
    "                \n",
    "                \n",
    "                \n",
    "        def is_parallel_to(self,ell):\n",
    "            n1=self.normal_vector\n",
    "            n2=ell.normal_vector\n",
    "            return n1.is_parallel_to(n2)\n",
    "                \n",
    "                \n",
    "                \n",
    "                \n",
    "                \n",
    "                \n",
    "                \n",
    "                "
   ]
  },
  {
   "cell_type": "code",
   "execution_count": 25,
   "metadata": {},
   "outputs": [
    {
     "ename": "AttributeError",
     "evalue": "'line' object has no attribute 'normal_vector'",
     "output_type": "error",
     "traceback": [
      "\u001b[1;31m---------------------------------------------------------------------------\u001b[0m",
      "\u001b[1;31mAttributeError\u001b[0m                            Traceback (most recent call last)",
      "\u001b[1;32m<ipython-input-25-1f29f9dfea93>\u001b[0m in \u001b[0;36m<module>\u001b[1;34m()\u001b[0m\n\u001b[0;32m      1\u001b[0m \u001b[0ml1\u001b[0m\u001b[1;33m=\u001b[0m\u001b[0mline\u001b[0m\u001b[1;33m(\u001b[0m\u001b[0mnormal_vector\u001b[0m\u001b[1;33m=\u001b[0m\u001b[1;33m[\u001b[0m\u001b[1;36m1\u001b[0m\u001b[1;33m,\u001b[0m\u001b[1;36m2\u001b[0m\u001b[1;33m]\u001b[0m\u001b[1;33m,\u001b[0m\u001b[0mconstant_term\u001b[0m\u001b[1;33m=\u001b[0m\u001b[1;36m3\u001b[0m\u001b[1;33m)\u001b[0m\u001b[1;33m\u001b[0m\u001b[0m\n\u001b[0;32m      2\u001b[0m \u001b[0ml2\u001b[0m\u001b[1;33m=\u001b[0m\u001b[0mline\u001b[0m\u001b[1;33m(\u001b[0m\u001b[0mnormal_vector\u001b[0m\u001b[1;33m=\u001b[0m\u001b[1;33m[\u001b[0m\u001b[1;36m1\u001b[0m\u001b[1;33m,\u001b[0m\u001b[1;36m3\u001b[0m\u001b[1;33m]\u001b[0m\u001b[1;33m,\u001b[0m\u001b[0mconstant_term\u001b[0m\u001b[1;33m=\u001b[0m\u001b[1;36m3\u001b[0m\u001b[1;33m)\u001b[0m\u001b[1;33m\u001b[0m\u001b[0m\n\u001b[1;32m----> 3\u001b[1;33m \u001b[0ml1\u001b[0m\u001b[1;33m.\u001b[0m\u001b[0mis_parallel_to\u001b[0m\u001b[1;33m(\u001b[0m\u001b[0ml2\u001b[0m\u001b[1;33m)\u001b[0m\u001b[1;33m\u001b[0m\u001b[0m\n\u001b[0m",
      "\u001b[1;32m<ipython-input-23-bbf3cbbf1984>\u001b[0m in \u001b[0;36mis_parallel_to\u001b[1;34m(self, ell)\u001b[0m\n\u001b[0;32m     39\u001b[0m \u001b[1;33m\u001b[0m\u001b[0m\n\u001b[0;32m     40\u001b[0m         \u001b[1;32mdef\u001b[0m \u001b[0mis_parallel_to\u001b[0m\u001b[1;33m(\u001b[0m\u001b[0mself\u001b[0m\u001b[1;33m,\u001b[0m\u001b[0mell\u001b[0m\u001b[1;33m)\u001b[0m\u001b[1;33m:\u001b[0m\u001b[1;33m\u001b[0m\u001b[0m\n\u001b[1;32m---> 41\u001b[1;33m             \u001b[0mn1\u001b[0m\u001b[1;33m=\u001b[0m\u001b[0mself\u001b[0m\u001b[1;33m.\u001b[0m\u001b[0mnormal_vector\u001b[0m\u001b[1;33m\u001b[0m\u001b[0m\n\u001b[0m\u001b[0;32m     42\u001b[0m             \u001b[0mn2\u001b[0m\u001b[1;33m=\u001b[0m\u001b[0mell\u001b[0m\u001b[1;33m.\u001b[0m\u001b[0mnormal_vector\u001b[0m\u001b[1;33m\u001b[0m\u001b[0m\n\u001b[0;32m     43\u001b[0m             \u001b[1;32mreturn\u001b[0m \u001b[0mn1\u001b[0m\u001b[1;33m.\u001b[0m\u001b[0mis_parallel_to\u001b[0m\u001b[1;33m(\u001b[0m\u001b[0mn2\u001b[0m\u001b[1;33m)\u001b[0m\u001b[1;33m\u001b[0m\u001b[0m\n",
      "\u001b[1;31mAttributeError\u001b[0m: 'line' object has no attribute 'normal_vector'"
     ]
    }
   ],
   "source": [
    "l1=line(normal_vector=[1,2],constant_term=3)\n",
    "l2=line(normal_vector=[1,3],constant_term=3)\n",
    "l1.is_parallel_to(l2)"
   ]
  },
  {
   "cell_type": "code",
   "execution_count": 14,
   "metadata": {},
   "outputs": [],
   "source": []
  },
  {
   "cell_type": "code",
   "execution_count": 20,
   "metadata": {},
   "outputs": [],
   "source": [
    "class MyDecimal(Decimal):\n",
    "    def is_near_zero(self,eps=1e-10):\n",
    "        return abs(self)<eps"
   ]
  },
  {
   "cell_type": "code",
   "execution_count": null,
   "metadata": {},
   "outputs": [],
   "source": []
  }
 ],
 "metadata": {
  "kernelspec": {
   "display_name": "Python 3",
   "language": "python",
   "name": "python3"
  },
  "language_info": {
   "codemirror_mode": {
    "name": "ipython",
    "version": 3
   },
   "file_extension": ".py",
   "mimetype": "text/x-python",
   "name": "python",
   "nbconvert_exporter": "python",
   "pygments_lexer": "ipython3",
   "version": "3.6.4"
  }
 },
 "nbformat": 4,
 "nbformat_minor": 2
}
