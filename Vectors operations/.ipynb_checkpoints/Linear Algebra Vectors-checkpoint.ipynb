{
 "cells": [
  {
   "cell_type": "code",
   "execution_count": 36,
   "metadata": {},
   "outputs": [],
   "source": [
    "from VectorFile import Vector"
   ]
  },
  {
   "cell_type": "code",
   "execution_count": 39,
   "metadata": {},
   "outputs": [],
   "source": [
    "from decimal import Decimal,getcontext\n",
    "getcontext().prec=30"
   ]
  },
  {
   "cell_type": "code",
   "execution_count": 40,
   "metadata": {},
   "outputs": [],
   "source": [
    "class line(object):\n",
    "         NO_NONZERO_ELTS_FOUND_MSG='No nonzero elements found'\n",
    "         def __init__(self,normal_vector=None,constant_term=None):\n",
    "                self.dimension=2\n",
    "                if not normal_vector:\n",
    "                    all_zeros=['0']*self.dimension\n",
    "                    normal_vector=Vector(all_zeros)\n",
    "                    self.normal_vector=normal_vector\n",
    "                if not constant_term:\n",
    "                    constant_term= Decimal('0')\n",
    "                    self.constant_term= Decimal(constant_term)\n",
    "                self.set_basepoint()"
   ]
  },
  {
   "cell_type": "code",
   "execution_count": null,
   "metadata": {},
   "outputs": [],
   "source": []
  }
 ],
 "metadata": {
  "kernelspec": {
   "display_name": "Python 3",
   "language": "python",
   "name": "python3"
  },
  "language_info": {
   "codemirror_mode": {
    "name": "ipython",
    "version": 3
   },
   "file_extension": ".py",
   "mimetype": "text/x-python",
   "name": "python",
   "nbconvert_exporter": "python",
   "pygments_lexer": "ipython3",
   "version": "3.6.4"
  }
 },
 "nbformat": 4,
 "nbformat_minor": 2
}
