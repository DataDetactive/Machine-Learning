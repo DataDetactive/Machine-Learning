{
 "cells": [
  {
   "cell_type": "code",
   "execution_count": 3,
   "metadata": {},
   "outputs": [],
   "source": [
    "import numpy as np\n",
    "from math import sqrt\n",
    "import matplotlib.pyplot as plt\n",
    "import warnings\n",
    "from matplotlib import style \n",
    "from collections import Counter\n",
    "style.use('fivethirtyeight')\n"
   ]
  },
  {
   "cell_type": "code",
   "execution_count": 89,
   "metadata": {},
   "outputs": [],
   "source": [
    "dataset= {'k':[[1,2],[2,3],[3,1]] , 'r':[[6,5],[7,7],[8,6]] }\n",
    "\n",
    "new_features=[5,7]\n",
    "\n"
   ]
  },
  {
   "cell_type": "code",
   "execution_count": 91,
   "metadata": {},
   "outputs": [
    {
     "data": {
      "image/png": "[encoded data removed]",
      "text/plain": [
       "<Figure size 432x288 with 1 Axes>"
      ]
     },
     "metadata": {},
     "output_type": "display_data"
    }
   ],
   "source": [
    "[[plt.scatter(ii[0], ii[1], s=100 , color=i) for ii in dataset[i]] for i in dataset ]\n",
    "\n",
    "plt.scatter(new_features[0],new_features[1],s=100,color='y')\n",
    "\n",
    "plt.show()\n"
   ]
  },
  {
   "cell_type": "code",
   "execution_count": 95,
   "metadata": {},
   "outputs": [],
   "source": [
    "def k_nearset_neighbors(data,predict,k=5):\n",
    "    if len(data) >= k:\n",
    "        warnings.warn('k less than your total votaing groups! invalid')\n",
    "    #knnalgos\n",
    "    \n",
    "    distances=[]\n",
    "    for group in data:\n",
    "        for features in data[group]:\n",
    "            euclidean_distances= np.linalg.norm(np.array(features) - np.array(predict))\n",
    "            distances.append([euclidean_distances , group])\n",
    "            \n",
    "    votes= [i[1] for i in sorted(distances) [ :k]]\n",
    "    vote_result = Counter(votes).most_common(1)[0][0]   #get the most element counter on condition to be the first\n",
    "    \n",
    "    return vote_result"
   ]
  },
  {
   "cell_type": "code",
   "execution_count": 96,
   "metadata": {},
   "outputs": [
    {
     "name": "stdout",
     "output_type": "stream",
     "text": [
      "3\n"
     ]
    }
   ],
   "source": [
    "result= k_nearset_neighbors(dataset,new_features,k=5)\n",
    "print(result)"
   ]
  },
  {
   "cell_type": "code",
   "execution_count": 94,
   "metadata": {},
   "outputs": [
    {
     "data": {
      "image/png": "[encoded data removed]",
      "text/plain": [
       "<Figure size 432x288 with 1 Axes>"
      ]
     },
     "metadata": {},
     "output_type": "display_data"
    }
   ],
   "source": [
    "[[plt.scatter(ii[0], ii[1], s=100 , color=i) for ii in dataset[i]] for i in dataset ]\n",
    "\n",
    "plt.scatter(new_features[0],new_features[1],s=100,color=result)\n",
    "\n",
    "plt.show()\n"
   ]
  },
  {
   "cell_type": "code",
   "execution_count": null,
   "metadata": {},
   "outputs": [],
   "source": []
  }
 ],
 "metadata": {
  "kernelspec": {
   "display_name": "Python 3",
   "language": "python",
   "name": "python3"
  },
  "language_info": {
   "codemirror_mode": {
    "name": "ipython",
    "version": 3
   },
   "file_extension": ".py",
   "mimetype": "text/x-python",
   "name": "python",
   "nbconvert_exporter": "python",
   "pygments_lexer": "ipython3",
   "version": "3.7.1"
  }
 },
 "nbformat": 4,
 "nbformat_minor": 2
}
