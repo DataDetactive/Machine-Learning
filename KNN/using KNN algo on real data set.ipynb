{
 "cells": [
  {
   "cell_type": "code",
   "execution_count": 1,
   "metadata": {},
   "outputs": [],
   "source": [
    "import numpy as np \n",
    "from math import sqrt\n",
    "import warnings\n",
    "from collections import Counter\n",
    "import pandas as pd\n",
    "import random"
   ]
  },
  {
   "cell_type": "code",
   "execution_count": 2,
   "metadata": {},
   "outputs": [],
   "source": [
    "def k_nearset_neighbors(data,predict,k=5):\n",
    "    if len(data) >= k:\n",
    "        warnings.warn('k less than your total votaing groups! invalid')\n",
    "    #knnalgos\n",
    "    \n",
    "    distances=[]\n",
    "    for group in data:\n",
    "        for features in data[group]:\n",
    "            euclidean_distances= np.linalg.norm(np.array(features) - np.array(predict))\n",
    "            distances.append([euclidean_distances , group])\n",
    "            \n",
    "    votes= [i[1] for i in sorted(distances) [ :k]]\n",
    "    vote_result = Counter(votes).most_common(1)[0][0]   #get the most element counter on condition to be the first\n",
    "    \n",
    "    return vote_result"
   ]
  },
  {
   "cell_type": "code",
   "execution_count": 4,
   "metadata": {},
   "outputs": [],
   "source": [
    "df = pd.read_csv('breast-cancer-wisconsin.data.txt')\n",
    "df.replace('?',-99999,inplace=True)\n",
    "df.drop(['id'],1,inplace=True)\n",
    "\n",
    "full_data= df.astype(float).values.tolist()     #we use float caz some values is string so we convert it to list of float so we can use it on our model\n",
    "\n",
    "random.shuffle(full_data) #we use shuffle to change the training data (the rows)\n",
    "\n"
   ]
  },
  {
   "cell_type": "code",
   "execution_count": 12,
   "metadata": {},
   "outputs": [],
   "source": [
    "# we are going to make our train and test data \n",
    "\n",
    "\n",
    "test_size= 0.2\n",
    "train_set= {2:[], 4:[]}\n",
    "test_set=  {2:[], 4:[]}\n",
    "train_data= full_data[:-int(test_size*len(full_data))]    #meaning we have 80% of data for training\n",
    "test_data= full_data[-int(test_size*len(full_data)):]      #meaning we test on 20% of data\n",
    "\n",
    "for i in train_data:\n",
    "    train_set[i[-1]].append(i[:-1])\n",
    "\n",
    "\n",
    "for i in test_data:\n",
    "    test_set[i[-1]].append(i[:-1])   \n",
    "        "
   ]
  },
  {
   "cell_type": "code",
   "execution_count": 13,
   "metadata": {},
   "outputs": [
    {
     "name": "stdout",
     "output_type": "stream",
     "text": [
      "Accuracy:  0.9712230215827338\n"
     ]
    }
   ],
   "source": [
    "correct=0\n",
    "total=0\n",
    "for group in test_set:\n",
    "    for data in test_set[group]:\n",
    "        vote= k_nearset_neighbors(train_set,data,k=5)\n",
    "        if group== vote:\n",
    "            correct += 1\n",
    "        total += 1\n",
    "print('Accuracy: ',correct/total)        "
   ]
  },
  {
   "cell_type": "code",
   "execution_count": null,
   "metadata": {},
   "outputs": [],
   "source": []
  }
 ],
 "metadata": {
  "kernelspec": {
   "display_name": "Python 3",
   "language": "python",
   "name": "python3"
  },
  "language_info": {
   "codemirror_mode": {
    "name": "ipython",
    "version": 3
   },
   "file_extension": ".py",
   "mimetype": "text/x-python",
   "name": "python",
   "nbconvert_exporter": "python",
   "pygments_lexer": "ipython3",
   "version": "3.7.1"
  }
 },
 "nbformat": 4,
 "nbformat_minor": 2
}
